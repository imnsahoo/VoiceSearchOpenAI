{
 "cells": [
  {
   "cell_type": "code",
   "execution_count": 1,
   "id": "87afd2ae",
   "metadata": {},
   "outputs": [],
   "source": [
    "import os\n",
    "import warnings\n",
    "#warnings.filterwarnings(\"ignore\")\n",
    "# Ignore specific warning by message\n",
    "warnings.filterwarnings(\"ignore\", message=\"detectron2 is not installed. Cannot use the hi_res partitioning strategy. Falling back to partitioning with the fast strategy.\")\n",
    "os.environ['OPENAI_API_KEY'] = 'Your Open API Key'"
   ]
  },
  {
   "cell_type": "code",
   "execution_count": 2,
   "id": "9b769fd0",
   "metadata": {},
   "outputs": [],
   "source": [
    "from langchain.document_loaders import UnstructuredPDFLoader\n",
    "from langchain.indexes import VectorstoreIndexCreator"
   ]
  },
  {
   "cell_type": "code",
   "execution_count": 3,
   "id": "4fa0850f",
   "metadata": {},
   "outputs": [],
   "source": [
    "text_folder = 'Folder or URL for DOCs'\n",
    "#text_folder = 'https:\\\\eyc-my.sharepoint.com\\\\:f:\\\\g\\\\personal\\\\niranjan_sahoo_symphonyretailai_com\\\\EgDvBmiRooVEtDDOqPfFa4kBwSB7Tjj2UtNEh6DMhSJ83w?e=0K2pLd\"\n",
    "loaders = [UnstructuredPDFLoader(os.path.join(text_folder, fn)) for fn in os.listdir(text_folder)]"
   ]
  },
  {
   "cell_type": "code",
   "execution_count": 4,
   "id": "4654b53d",
   "metadata": {},
   "outputs": [
    {
     "name": "stderr",
     "output_type": "stream",
     "text": [
      "detectron2 is not installed. Cannot use the hi_res partitioning strategy. Falling back to partitioning with the fast strategy.\n",
      "detectron2 is not installed. Cannot use the hi_res partitioning strategy. Falling back to partitioning with the fast strategy.\n",
      "detectron2 is not installed. Cannot use the hi_res partitioning strategy. Falling back to partitioning with the fast strategy.\n",
      "detectron2 is not installed. Cannot use the hi_res partitioning strategy. Falling back to partitioning with the fast strategy.\n",
      "Using embedded DuckDB without persistence: data will be transient\n"
     ]
    }
   ],
   "source": [
    "index = VectorstoreIndexCreator().from_loaders(loaders)"
   ]
  },
  {
   "cell_type": "code",
   "execution_count": 5,
   "id": "24778b93",
   "metadata": {},
   "outputs": [],
   "source": [
    "import speech_recognition as sr\n",
    "import openai\n",
    "\n",
    "# Initialize the recognizer\n",
    "r = sr.Recognizer()\n",
    "\n",
    "def ask_question_answering():\n",
    "    with sr.Microphone() as source:\n",
    "        # Adjust for ambient noise levels\n",
    "        r.adjust_for_ambient_noise(source)\n",
    "\n",
    "        # Prompt the user to speak within a 5-second timeframe\n",
    "        print(\"Please speak now ...\")\n",
    "\n",
    "        try:\n",
    "            # Listen for speech input\n",
    "            audio = r.listen(source, timeout=5) # timeout increased to 5 sec from 1 second\n",
    "            \n",
    "            # Recognize speech using Google Speech Recognition\n",
    "            saidString = r.recognize_google(audio)\n",
    "            print(\"User said:\", saidString)\n",
    "\n",
    "            # Transcribe the speech using the OpenAI API\n",
    "            text = openai.Completion.create(\n",
    "                engine=\"text-davinci-003\",\n",
    "\t\t        # removed {r.recognize_google(audio)}\n",
    "                prompt=f\"Transcribe the following speech:\\n{saidString}\\n\\nTranscription:\",\n",
    "                temperature=0.5,\n",
    "                max_tokens=1024,\n",
    "                top_p=1,\n",
    "                frequency_penalty=0,\n",
    "                presence_penalty=0\n",
    "            )        \n",
    "\n",
    "            # Process the transcribed text using the run_question_answering function\n",
    "            return run_question_answering(text.choices[0].text.strip())\n",
    "\n",
    "        except sr.WaitTimeoutError:\n",
    "            pass\n",
    "\n",
    "        except sr.UnknownValueError:\n",
    "            print(\"Could not understand audio\")\n",
    "\n",
    "        except sr.RequestError as e:\n",
    "            print(\"Could not request Speech Recognition service: {0}\".format(e))\n",
    "\n",
    "# Define the run_question_answering function to handle the transcribed text\n",
    "def run_question_answering(transcribed_text):\n",
    "    # Add your question answering logic here\n",
    "    pass\n",
    "\n",
    "# Call the ask_question_answering function to start the process\n",
    "ask_question_answering()\n"
   ]
  },
  {
   "cell_type": "code",
   "execution_count": 8,
   "id": "861369a1",
   "metadata": {},
   "outputs": [],
   "source": [
    "def run_question_answering(question):\n",
    "    while True:       \n",
    "        #question = input(\"Our Question > \")\n",
    "        if question.lower() in [\"exit\", \"quit\", \"bye\", \"goodbye\"]:\n",
    "            return\n",
    "        return 'Response > '+index.query(question)  "
   ]
  },
  {
   "cell_type": "code",
   "execution_count": 12,
   "id": "5c6048ea",
   "metadata": {},
   "outputs": [
    {
     "name": "stdout",
     "output_type": "stream",
     "text": [
      "Please speak now ...\n",
      "Please speak now ...\n",
      "User  said :  how to create dpp order step by step\n"
     ]
    },
    {
     "data": {
      "text/plain": [
       "'Response > \\n1. Go to the Offer selection screen: (access path in the standard version of SR Central Operations Version 5 Supply > Daily priced products > Daily price input).\\n2. Search for the concerned global offer and double-click on the line corresponding to the global offer for which you wish to enter the daily sales price.\\n3. In order to display all the articles of the offer, click on the [Search] button on the toolbar.\\n4. To search for an article the DPP price of which you wish to enter, enter its code in the Article field and click on the [Search] button on the toolbar.\\n5. Once all the data is entered, click on the [Validate] button on the toolbar.\\n6. To validate the plan/day, on the Consolidated plan management screen, select the corresponding line and click on the [Validate] button at the bottom of the screen.\\n7. The offer data can be displayed in the offer general data screen.\\n8. Then, to be validated, the offer has to go through the standard process. At this step, it is the DPP price calculation.'"
      ]
     },
     "execution_count": 12,
     "metadata": {},
     "output_type": "execute_result"
    }
   ],
   "source": [
    "ask_question_answering()"
   ]
  },
  {
   "cell_type": "code",
   "execution_count": null,
   "id": "9eae9ec0",
   "metadata": {},
   "outputs": [],
   "source": []
  }
 ],
 "metadata": {
  "kernelspec": {
   "display_name": "Python 3 (ipykernel)",
   "language": "python",
   "name": "python3"
  },
  "language_info": {
   "codemirror_mode": {
    "name": "ipython",
    "version": 3
   },
   "file_extension": ".py",
   "mimetype": "text/x-python",
   "name": "python",
   "nbconvert_exporter": "python",
   "pygments_lexer": "ipython3",
   "version": "3.9.12"
  }
 },
 "nbformat": 4,
 "nbformat_minor": 5
}
